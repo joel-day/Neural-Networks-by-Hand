{
  "cells": [
    {
      "cell_type": "markdown",
      "metadata": {
        "id": "2ZeZuR_WIhkO"
      },
      "source": [
        "# Artificial Neural Network (ANN) from Scratch using Python\n",
        "## Joel Raymond Day"
      ]
    },
    {
      "cell_type": "markdown",
      "source": [
        "![neural network_3.png](data:image/png;base64,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)"
      ],
      "metadata": {
        "id": "8JToqcySHYJZ"
      }
    },
    {
      "cell_type": "code",
      "execution_count": 1,
      "metadata": {
        "id": "lIYdn1woOS1n"
      },
      "outputs": [],
      "source": [
        "import numpy as np # for math\n",
        "import pandas as pd # for data storage\n",
        "import random # for weight and bias generation\n",
        "import time # to record training time\n",
        "import matplotlib.pyplot as plt # visuals"
      ]
    },
    {
      "cell_type": "markdown",
      "metadata": {
        "id": "ZyO7mru3DSVG"
      },
      "source": [
        "# Load and Scale Data"
      ]
    },
    {
      "cell_type": "code",
      "source": [
        "# independent variables (requires scaling)\n",
        "age = np.array([60, 63, 17, 35, 90, 10])\n",
        "exercise = np.array([8, 2, 7, 4, 1, 9])\n",
        "diet = np.array([7, 2, 7, 5, 1, 7])\n",
        "\n",
        "# min-max scaling for independent features\n",
        "x1 = (age - 0) / (101 - 0)\n",
        "x2 = (exercise - 0) / (11 - 0)\n",
        "x3 = (diet - 0) / (11 - 0)"
      ],
      "metadata": {
        "id": "F2eVA7MLG3ZS"
      },
      "execution_count": 2,
      "outputs": []
    },
    {
      "cell_type": "code",
      "execution_count": 3,
      "metadata": {
        "id": "iSQziPu8Be_F"
      },
      "outputs": [],
      "source": [
        "# dependent variable (does not need to be scaled)\n",
        "y = np.array([7, 3, 9, 6, 1, 10])"
      ]
    },
    {
      "cell_type": "markdown",
      "metadata": {
        "id": "Mi5tumM1DSVH"
      },
      "source": [
        "# Initiate Neural Network Parameters\n",
        "## (1) Weights and Bias"
      ]
    },
    {
      "cell_type": "markdown",
      "source": [
        "![Z.png](data:image/png;base64,iVBORw0KGgoAAAANSUhEUgAAAT0AAAATBAMAAAAQZMdcAAAAMFBMVEX///8AAAAAAAAAAAAAAAAAAAAAAAAAAAAAAAAAAAAAAAAAAAAAAAAAAAAAAAAAAAAv3aB7AAAAD3RSTlMAmd2ric1U7xAidmYyu0RrMWKPAAAACXBIWXMAAA7EAAAOxAGVKw4bAAAD5UlEQVRIDYWUT2hcVRTGv8wkmffmvUyCKdIiwrhrQcJA4kZdTLFkoZsBaXFR9GVT0FTMSgwWeXaRSBdlpC1C1WbAUiq0ZQwW0ST2gdiFEMyy/6BPDFlY0EG0RF3Ec+6fee/cDJO7uPd+3/nd8867c+YBPYbX6mFaq2w3Zu0Lo+XQZxwtpJtaBQf+nDryt8BQlFIqb0zqvjA+lDBqjhbSSX3uH44WIgy+JzDckNJRs1L3h4fbgi6nQrpCpg47HL8I3Eok2JDSUUNae8buD8OEY02bs+borkWmDjYYaCN8LEHnnWUQGIyUE6Rq2QPGtKLwvV7kBWkvN8vUxZYOfWJWC4407c6sidCVmpKmvj1g/KrPmvruikxAKLVMXUpV1HtGQijRuRkMRIu2zjkGKjOXvooVqSRMfb1hbB14tF/BFOdh6qOjt8fwpDevXX4UjS4MkXrpxBWOjjR4xsAkjzrtCsBCISklQykJIEg2PqXldni/kLJGR82mvt5wGK23JxQ2qmZbXxVe9CxO4XXtro74bbqMLixTf9MsxcQ9wVN+XADSJSyh3FzYID+89wqna4XbAZSh/+2mvgyePZzBZfwct4e/HgPUI+z9+Q1U/I7fwZfDW3y965dvpoCGlSFST6HE0XkMQ4wfSb2ENQQ40eBA8K8Kl2vQxkGS45PPvTo5RZsu7LeKddIGxhf8ZSCgEKuf5qj6aULKN1ij/2W7hOcJxq0WzwxrQ6T+AKMJ8EdKLyDGaVITdD4AvS/f38sPOD4UQRtzrGz/deGwwd8DC+MYl77Gz1VD959XpYLTYgttH8fJX798PeEwwdrIp/Y6eIf8/4CfmMn6j1NuU4Wf6XKo/+gbST95XO5RXwZjsK6aleGKv40WcMSpj/t/NC6kfoKLFAb1Hy0aVka+Pr/Kd7xYR3iI0NwYioF57136Mqr7g/pXBdXl+Ftl+HRNNEz/ZTBO0zkNYzk4GDTh0c/1OXu2//AaFdxcjALgLPefvl0NsyFTVysN4OG+8TeqjGajHAG/rPzwXWzrSynmT1+aTpQRtEl268tgvKj8lOfzb26eBIoJsMKyW98Vuq2nVl+4Ss7TbFd40jAbMvXmWxzdPfya9cz9WUlV0huNxEqb+8vgctLMQLW75gN3tKf7D+cs8TaW7VavypCpJZBTJieVU825vGXDPMOL2egWAPzOHZcflZQa1rzrRzpgCgB+w748agwntSQy9bHdbr7vXAkbqnEsAVjY39mpZy7vlnb+wkAsPH/MyGClLgJQhpNaEpmqRNl+1y5IpNUXxqqEseVoId3UIpgXzq3lQ/ShckY/GG5w1+l8sh7B/wGK9RQNbI+NlwAAAABJRU5ErkJggg==)"
      ],
      "metadata": {
        "id": "eSAYZ0TbWaLS"
      }
    },
    {
      "cell_type": "code",
      "execution_count": 5,
      "metadata": {
        "id": "_OHELqiBb0Og"
      },
      "outputs": [],
      "source": [
        "# generate a random number uniformly between lower and upper bound\n",
        "lower_bound = .1\n",
        "upper_bound = .9\n",
        "\n",
        "# initiate random weights\n",
        "w1 = random.uniform(lower_bound, upper_bound)\n",
        "w2 = random.uniform(lower_bound, upper_bound)\n",
        "w3 = random.uniform(lower_bound, upper_bound)\n",
        "\n",
        "# initiate bias - can be set to zero (unlike weights)\n",
        "b = 0\n",
        "\n",
        "# learning rate\n",
        "lr = 0.005\n",
        "\n",
        "# epochs\n",
        "iterations = 25000"
      ]
    },
    {
      "cell_type": "markdown",
      "metadata": {
        "id": "dvMy2pi0JFOW"
      },
      "source": [
        "## (2) Activation Function and its Derivitive\n",
        "## Activation Functions Neural Networks: A Quick & Complete Guide [link text](https://www.analyticsvidhya.com/blog/2021/04/activation-functions-and-their-derivatives-a-quick-complete-guide/)"
      ]
    },
    {
      "cell_type": "markdown",
      "source": [
        "![identity.png](data:image/png;base64,iVBORw0KGgoAAAANSUhEUgAAAGQAAAARBAMAAADZIxQVAAAAMFBMVEX///8AAAAAAAAAAAAAAAAAAAAAAAAAAAAAAAAAAAAAAAAAAAAAAAAAAAAAAAAAAAAv3aB7AAAAD3RSTlMARN0iMlSZEO+JZrt2q81XDIrVAAAACXBIWXMAAA7EAAAOxAGVKw4bAAABj0lEQVQoFYWRvUvDUBTFT9qkTZpoAwriZEBxcekiKAjJIggKdlCR2kEEBwUhS8FJhRYEpywW7GJwKXTQziIYhzoIQgcXwUL9B7RYXBzE+5KWR4jQM5x37+/e+3gfgK/lbrAO8MTX68UvIBjUJ5yQ9ZS0IRggjyqWhXIKxHUqaU1eVz3GyKNaAG6sHlZdXk/7MHBO/ciF+N1H6Uw/Apb8MHBOe9GcB4gbdKzGJpDLI1+tvWD8o0KMHIvboGJIyWlKC7KFW7Qw5Akjo2fYAmUBS2ZLuKOORIvJ8UfVNi26iVQdb7iCMpsy8Ax0GSMXxA5KfiO3HZvFZcgulWZyD0g4NMveu+y70qShkLQiJAIlmBmxk2R/Keu0udJkjHlM1+qhCUzo0ADJ0Feh1cfYfiaktj7sFoiR49hWPaL8LvEfYAVQHFfGkeNOQbKu6WhuzPKIkSMN06IRrkMH4iQ98rkt7K7t2/PrVTyxTGpkAkeqcsnbWXS/d/BphFEke4yQAeAdxQEdkXIz4UbYAFBr/NvwB2SeaHQgtcl8AAAAAElFTkSuQmCC)"
      ],
      "metadata": {
        "id": "fJPulfUhZDe5"
      }
    },
    {
      "cell_type": "code",
      "execution_count": null,
      "metadata": {
        "id": "_UKZADbUhT1O"
      },
      "outputs": [],
      "source": [
        "# Activation function : identity function\n",
        "def activ_func(x):\n",
        "    return x # identity\n",
        "\n",
        "# Derivative of the identity activation function wrt sum of inputs and weights equation (L)\n",
        "def d_activ_func(x):\n",
        "    return 1"
      ]
    },
    {
      "cell_type": "markdown",
      "source": [
        "## (3) Forward propagation"
      ],
      "metadata": {
        "id": "oDs9M2O6qg8j"
      }
    },
    {
      "cell_type": "markdown",
      "source": [
        "![y_hat.png](data:image/png;base64,iVBORw0KGgoAAAANSUhEUgAAAPkAAAATBAMAAACgvrZHAAAAMFBMVEX///8AAAAAAAAAAAAAAAAAAAAAAAAAAAAAAAAAAAAAAAAAAAAAAAAAAAAAAAAAAAAv3aB7AAAAD3RSTlMAELuZInZmMlTvRImr3c00S4s8AAAACXBIWXMAAA7EAAAOxAGVKw4bAAADVUlEQVRIDbWUXYhUZRjHf2f2fM2ZmT0no1gvSoPssuaiRNDoEHShBTNIyQYRZyNNEHQggxWRHb/WvRE2MBfq5oCBRkUDgk2s1dxYFxsykWBEF6eLumhBR5QUQfE5x3H3fc+47Hbhw8yZ5//xPs/7cd6BRxtP9MvXl2qzKlhKWY63di7noANDd+Zm7z6ed77y5+yPiZAvVvNKHz8GXyuSEeB1FQzbj2tQQN5jxVBpUvrYjURV43f4TpZt8aTKKvk62KLAQh0zVjBcVuVMyXuGhX0N9jRItJGYdeybOpVDOdVv5HSzlyMg75kUR4RzC9q614aJpk7pyJnW8T4dgpvkGfKeZzPH5jp8lfeanwjjHMataoo1uhcmp7b8MB+NVxmvGifgrWPhl1fOiRd327ccHdvxs5zx9/OxyBzuY3fnkQFPtgDjN6lf1HoIeCrtOlJsyGHBpl8k5lLLc1ykHJVbhchozsiHfylE5UR48fISm83TJzkkxkJEKl/o45+YG/B004KFRB5+mi02gedTIp5Aaiphr5Uq7+IGfuiZPc/p8SbvUW5xg7iGneCP213ekREyLpVn3AxbCQfzHjNJC78cpOb0ocTQrxk4z4RCii3iU/4T6gsoVSl15LU5STH2puFsqq5pDLW4IIY18i115N3LsB9B3uMkYrFO4Mq9y3V/O6Qp4h9sledi1EKnZ14TfD5bXSUmMm/IDGUazFAL2SNTkUXe/zOoxLJXGa5J+bzH6IrtmxhLSkmmhHcb6vLuXGNdyi4cyQTW2tM9CP4xmsc9/MCR6bDVG45G3K6cE39Tk9c9Jtt9PyjXmxkWxRjwTIMp+/hRv/tCE2pyD6U7PVO/10WebkWXsMPLFrO2dJerOW3M25VGvdSKKg27w27Z64hs931Wfx5nuBLy/oDnL1jdwrkEr0qrxTA+gwOh4F27ZKFKeBuOrQ9enxrj6BH2H8RtR3Bq6sMxdzR02oHZ3gHbkCw9B7A3nDl3H5vtyWDAMwovbNx0tQsyTInC9bMX72TYqir0/0gNfdYPHfnGAvvMQqYmw3ExVPGKc2+ks7y3IFuUhdnpJ/pPmfU6sVLkn2osbzUf7OvQg2noY+ztTZ1YKbL1k1xi2Jk+/8ES+qOlzX758KFt7gHw0Pw43DJAAAAAAABJRU5ErkJggg==)"
      ],
      "metadata": {
        "id": "bcoH-qWjrP5D"
      }
    },
    {
      "cell_type": "markdown",
      "metadata": {
        "id": "8HoZLIA1JVcV"
      },
      "source": [
        "## (4) Loss Function and its Derivitive\n",
        "## Mean Squared Error loss function and its gradient (derivative) for a batch of inputs [link text](https://www.bragitoff.com/2021/12/mean-squared-error-loss-function-and-its-gradient-derivative-for-a-batch-of-inputs-python-code/#google_vignette)"
      ]
    },
    {
      "cell_type": "markdown",
      "source": [
        "![MSE.png](data:image/png;base64,iVBORw0KGgoAAAANSUhEUgAAALgAAAAyBAMAAAAdNgxKAAAAMFBMVEX///8AAAAAAAAAAAAAAAAAAAAAAAAAAAAAAAAAAAAAAAAAAAAAAAAAAAAAAAAAAAAv3aB7AAAAD3RSTlMAid0yzZlEdu9UECKrZrsQi3lRAAAACXBIWXMAAA7EAAAOxAGVKw4bAAADsUlEQVRYCe1WTWgTQRT+krTZbDY/jYio+FM8iSBGEFFBjBcFL7aIJ/9WUVAQGpUePAgVQdQeGqR6ENT1UPRgVVRaBbERFDwUXCviQW3jQQSVWlvqP65vdncmSd2Y2dYeBD/YmTfffO9t5s3bmQA+cXHaKcOni7zcHAnk5NU+laFCLO3TRV6uZCPyYr/KWHpvl1+fKvqdIhUJXDariH1Od68SwX16ysiT/4N7pelfT0vbl2MMbZZl6V7rGyfnpGXgp+OuvbAKVQOpjxuqahyBEzxh8e+n43tVx27cq6pxg+usj7aJmKdoeJFx3sgCS9BPc1NGqKkZ1YHt+56bCMxvTD0cs6ILj1anWZSmYdYyBAwgz4zfcMUgqoPRKXqU49S0Uzg6qHfrwCAQHhOcBDYCVsmEortsebeJSVST1rmADGUtGU06sAsI0vgzPVl6vLD+a5GtKZolloJONsoA9rnf9YDetMoAttCPB0IsSzl6vHDJuibos8LyMGYABzTizTnAiv1kvAdorAyB1lQBqpURM++E5WHsRVhXiDf76Je+JuP82jS1iYKWp64Ctn0UEy3A8gawsikBZyLosZjUbIIKtqmhD8MGEHk1tc5Wb+4ljK3VYPHbrEc0dwRvbC1vBJN0mGiux7ihfbMHO/JATzqk2wPPRrNOuLyWQTg0hCMozb1gIoYtU41kOhevt/OtZoABhGglZaCzxLKGHGrghzsVytD+5yk8ITzIYJLFmaDBeMQROW3E8sBSElF3H8BteiogxosxWk+VqysFlIEz7l+EOGpmIEJvPUilqQOHSdzAHDxzjpo6NsfQAlw1Etl4ng04OOMGX4lYBj3X7Ep8Rsn5RGsTAbhPse8V5jogSTtksg9RgDN3bSYwz1TSgfUbgLpUSgemjqZmLTKEeKyhZARDK43Pngva2BJw5mUJJ22eNIT0DrOaETAFYxsO87aclBqFWouyhIE1aEXQPks47TJ/+g659Lf+ll6ktAbka03UPi9SdAw7TK1RSkraC7mOTjjswUvKezlc5kk5KzVKiDJ6Snqtsg8VnyzUQ50v0ky8lXt0UMH+JXQtM9UCxXLrMNrVb7X8pdB0IPdByVO0JvuQsRuRn4m/pBGxLEVp3ihgTDwoj3AUSR9bxL3kem0I7WE5qX9VPIPGuH83OQ/FxOIzttS5daLn5PzGpVLbx+Um6XRTUudLxm+dSQluLriQSqVmYlKC81tnUoLzW2dSggc7nbRc97VTkmL31glPL7t9Kjr/AsHL916yw52+AAAAAElFTkSuQmCC)"
      ],
      "metadata": {
        "id": "t9ycPQmQWOiy"
      }
    },
    {
      "cell_type": "code",
      "execution_count": null,
      "metadata": {
        "id": "gujV89SdY1JW"
      },
      "outputs": [],
      "source": [
        "# n = number of samples (also equal to the length of the input vectors)\n",
        "n = len(age)"
      ]
    },
    {
      "cell_type": "code",
      "execution_count": 12,
      "metadata": {
        "id": "89AEZ0e5JVid"
      },
      "outputs": [],
      "source": [
        "# Mean Suared Error (MSE)\n",
        "def MSE(predictions, targets):\n",
        "    return ((1/n)*np.sum(((predictions-targets)**2)))\n",
        "    # ALT METHOD: divide by 2 to make the derivitive simpler. return ((1/2n)*np.sum((predictions-targets)**2))\n",
        "    # ALT METHOD: derivitive would be...       ((1/n)*(predictions - targets))\n",
        "\n",
        "# Derivitve of Mean Suared Error wrt to the activation equation (Y_pred)\n",
        "def d_MSE(predictions, targets):\n",
        "    return ((1/n)*2*(predictions - targets))"
      ]
    },
    {
      "cell_type": "markdown",
      "source": [
        "## (5) Backward Propagation\n",
        "## Gradient Equation [link text](https://sebastianraschka.com/faq/docs/mse-derivative.html)"
      ],
      "metadata": {
        "id": "gqtySVPeOBoB"
      }
    },
    {
      "cell_type": "markdown",
      "source": [
        "![eq_mse wrt w1.png](data:image/png;base64,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)"
      ],
      "metadata": {
        "id": "-MeI3eLQVtCB"
      }
    },
    {
      "cell_type": "markdown",
      "source": [
        "![eq_MSE wrt y.png](data:image/png;base64,iVBORw0KGgoAAAANSUhEUgAAAO8AAAAyBAMAAABG/pF7AAAAMFBMVEX///8AAAAAAAAAAAAAAAAAAAAAAAAAAAAAAAAAAAAAAAAAAAAAAAAAAAAAAAAAAAAv3aB7AAAAD3RSTlMAEHarRM1UZrsi790ymYmFLq+pAAAACXBIWXMAAA7EAAAOxAGVKw4bAAAFNElEQVRYCb1XW4gbVRj+JpfJZbPJIOKKsm4QsYLtGqggYpUBZfFFNkrBl2JTcKkgxeAKVVrbuA9aQWHRFcULiVDUSstuUfDBPozgpRR0oz54Qde1K7teY6q2eKnG/z9nzszkMt1MEv0fzvn/7798czLnnPkDDFa08YkPB1uxy2qxjLXaZeiAw45jSy8Vz9/bS5Y351JUvGaXemSHngN+OEvh0b9NIHJy7Wmyj9RWjnRZAVsi11JiUMlYGAdCL1HeVJWGVUQOAvEScEtLqci2FkCZJe0apQaYdeAEEd8GaJMmLZjIF4BMlrDmKomN/KsMVBaBuesBfdEAhovAMrBokd1KMlji1Ib77gGK3wJvXUlM8RwwC1yFWCstMFjiaUQ+J+I9QOFx4tJPb2TGA3jyPyZOVYDfiXiSflneYDjeOErjK7U72GiWga44ugztDLRC2Xg+cUrwRF4DEmfxdjMpWwMlHjOh16EbGasQW6Di9H6ngFgdFgpM5pUOxPN/vsoy32g0TG/o+vqkgXCVdlLyTiNM+ypF6TcC4TytutCa3YF4P70mlsR0oySUrocyHWODiKOrSBbp7BaAq4HkMh2sthodiOMNShIy+kdbfDugZQXGY7ygHQPe4zWWZ8VpihFcNoEaeZvlt2aTLW3e4dtF5nntEQrJshKW1ihPH40bSL9ZDFnp7V8A6XTtGxq3L9Wuk1tNRvKorZz+0bWUNvmX0tIGkFNG03wheSDILqOrcRud2WKTP5gR+ulhTkg3qm5eyHR1j/YZhwiyPOTFm/d4g6rfYUw89/YzbmbUVT1aCCNsEZkg552y6nEHVY9heIFzLmrMOqk7Ha2DQmRxDmViOji9iMVJLyNd51lv5HkS8qhSOs1ElmSciYXSKejcWEW645Lxq3+caHK8WwVvb48ohMiGGGbijMfvo368meQGrzNmlahFISlbYhpy76wFunsPY0bAanAQInuKQbFiQ7kDzKmZta0i/HaZlGi8aGcn8oik6jgM77t2kKSBdziQiYcM0CXrK+Id2kUhIxmK/SKwdNF27f/VVlJ5Ol45oma5+QDJI6QohMguZkfP7zg1c/IxLrCbB5awOlDaAq3FDJUE6gwKoXccZHN1fMdPUNVIAfaS6ctqSwUYM+LZWE4BPCuEWKMG2XzxPsOO4FLhlPdvmqjK1M1yovFW3q9lq8ithCMKITL6BMmL1/m1RFTXnb3J4fQJlsShvMjm4XLaAGs/I+EiBCqEyBI5O/QhexaT7Oy1Jszr99PvNhyP6NM2wdl2tkMiXNgu7jyACJCd/fALTpnulNQhNy5uYCsOYWjEhaAQQWYXH3aflSJ10dlntaI3a339WdONSVSRo8Z8+AEXok+lRAQZ7UiWvWL0DNTZB5Y3VEaalAnspvfcLDYiyWaFT44qTHb2yup2ji+ryAdJSSijfW4m8/q5s0/tgl71gh5d3zAybXlsqX6qkNEOjZHynXNOVaizvyBpxbM+YXMninqp1WefJW3u/kal1delLTp7cxFJyyehsAehXKtv0r3ol1t9XdpjJqizX4H/BltCONtabNOXjhitvi5t2dm/jit84w8i479DfLPWdYjOXjvV8hn3pCXqmIp47EGpsrOv0981H4nlsRTz8fUFc2ePffvqfkVCRXywo925U0DaXe2eYEioGizejtbpL2Y/EjWTPe4f0cf1Th3GJwGTVbfRJ3Hs3kJA4uLRS2q12teycw2Y21e46jb6XHHwZ1Ddxv9OPDQif+rngj9zfxl2txH5vqnr6FzzX0NgaTrRNcm1AAAAAElFTkSuQmCC)"
      ],
      "metadata": {
        "id": "79PLNLK6Vv1R"
      }
    },
    {
      "cell_type": "markdown",
      "source": [
        "![eg_dy wrt dz.png](data:image/png;base64,iVBORw0KGgoAAAANSUhEUgAAAFIAAAAnBAMAAABu7QLaAAAAMFBMVEX///8AAAAAAAAAAAAAAAAAAAAAAAAAAAAAAAAAAAAAAAAAAAAAAAAAAAAAAAAAAAAv3aB7AAAAD3RSTlMAEHarRM1UZrsi790ymYmFLq+pAAAACXBIWXMAAA7EAAAOxAGVKw4bAAACB0lEQVQ4EYVUQUsbQRh9Yzab7GatexAvIt2DoJQShOK1BFq86g/oYf0B0mALvYig0PteCr0US39AoSiePOTSix4SVFD0YEFoQWyNoFVoJX7z7exmNu5mBzLf+957M8zMhgckx/BSss/sjHlzChArmYZYGGqgCgx+iolMYALbgCfqmQ5NaGq4D3Qm3r7uI2vSGxhHzgLMlsalQuczcDtiN8peqqyRxR8Qf2tN2A2NTIWPazDbOEX+rWZdFFrYwGTqPjq5Rs/pikus6mSMhceQ57IvtoC29Z+p3qkQEmNcdqsusLzc7jVxPw5UD32Y2gccePCcxivyzuFRIG5kVaNYs4MIq2o9pfPQXpUGjoGfkVrAQQS7lZzlAHYdF8CLiC4t+hHsVnLa3L2PQFdLInJWJCOfZSgpyW7vGY3nzJPhgwRFurjtMpUxkfO7lH7Rr+Kio42eFeQcJapEW6oD9xjilpzyRjMopTqT5yy6cPZfLgAf4/Vp4AoY8GF3OnfAO2nICAZxen0Oa0ptIdMgDIaT9T8Xc4rVi8oLXhEGwyZwlvZkKi8GpcbBYHko0VUfDsNnbkkpTfkOzZBTVFwCRjyrYLC+xGIWkMFA2mgryxDxHAzU0D8rZ3AwUCh+y/EBYTDgSQA/xxsGg0FfzstxcjBgrQ4nz8nBIL4CO+HL9dlYBkP57vf0vxTPPa65et2L7HGdAAAAAElFTkSuQmCC)"
      ],
      "metadata": {
        "id": "TPXrc_MlVv8Y"
      }
    },
    {
      "cell_type": "markdown",
      "source": [
        "![eq_z wrt w.png](data:image/png;base64,iVBORw0KGgoAAAANSUhEUgAAAGAAAAAqBAMAAAC+dUMBAAAAMFBMVEX///8AAAAAAAAAAAAAAAAAAAAAAAAAAAAAAAAAAAAAAAAAAAAAAAAAAAAAAAAAAAAv3aB7AAAAD3RSTlMAEHarRM1UZrsi790ymYmFLq+pAAAACXBIWXMAAA7EAAAOxAGVKw4bAAACRElEQVRIDY2UTWgTURDHf5uvzTabZA/Sg0UajCB4CEXxqAaE9NSak0dZEUVBcVEhih7iQc97EQQ/UhUUL2KxePIQFEHqIVVPCtKK4KGgJiIqWNF5u1aymjVvILNvZv6/zczu2wdRMybb0cSwqObsE8nivQ8f68OkYX2FxBLch2VHD3CxZ7BKmCt6elHZXUzouJrAw0atK1LruqbenGBqRrRjC5rAPBSboj2nqWcPjLuQn9UEjM9wVLSbfATTsFQPtkFKuJKGXB5OF/satDzseMAIS6E/z1gb4w489YmzZFhYF1zy699A9sf7rd/j5LABGuUSGS9eEq3UKXh8gno0HRvJnQtNbsC7WEm0kFXTGV9hZzQfG42oSkL6CRaxMqi9nHymyjn5ma/FFVX0j73YIrZd0rb7xJtT5QvKmWflHxy1irUEHcczDsLjQCK7M+fwM2rdKF2GzH7Z+ZBss+gMnYHdwks/MmvLZUfc0H9mSFk92ZACpB0KjiFf5MVoA39Hp81Z01dAwoVKWVxDSdacUX6QXT00fThoyZr4XZYHRWpvZjUcBIXPVAnFArDYphKGMf6S5K+Etbx6DRmYj5EG6dTyKWnDDdarzXf+B4Q1P7gE3t54Qp0B+nac1Cv7CHl3bXiXYaScw3wbzbVH2unqMG1QTy9hfKm2aJHwR5sayHiVTJe3nJTz+0BdA9jlkFxgjs0CWDpAS16DQ0+Qy3pA1jUewG3jJp4ewPOKA1ONR8ccTaBvTq0Z+vRYd/sjjfX0LX+g6heOw4NEng36swAAAABJRU5ErkJggg==)"
      ],
      "metadata": {
        "id": "xnmh1geRVwCy"
      }
    },
    {
      "cell_type": "code",
      "execution_count": null,
      "metadata": {
        "id": "19IiK_OudvPW"
      },
      "outputs": [],
      "source": [
        "def single_parameter_back_propagation(predictions, targets, Z, parameter):\n",
        "  # calculate the gradient for each parameter by multipling each partial derivitve (chain rule)\n",
        "\n",
        "  # (1)\n",
        "  alpha = d_MSE(predictions, targets)\n",
        "\n",
        "  # (2)\n",
        "  beta = d_activ_func(Z)\n",
        "\n",
        "  # (3)\n",
        "  if parameter == 'w1':\n",
        "    theta = x1\n",
        "  elif parameter == 'w2':\n",
        "    theta = x2\n",
        "  elif parameter == 'w3':\n",
        "    theta = x3\n",
        "  # bias is 1 (not = bias) because it is not multiplied by an input variable\n",
        "  elif parameter == 'b':\n",
        "    theta = 1\n",
        "  else:\n",
        "    print('invalid parameter')\n",
        "\n",
        "  # calculate gradient\n",
        "  # returns a vector of gradients the size of input vector\n",
        "  # gradient sizes may be able to distinguish feature importance (or at least find the feature that has the potential to improve the model the most)\n",
        "  gradient = alpha * beta * theta\n",
        "\n",
        "  # divide by n again to get the average loss per sample\n",
        "  # returns the mean gradient for the vector of gradients\n",
        "  avg_gradient = np.mean(gradient)\n",
        "\n",
        "  return avg_gradient"
      ]
    },
    {
      "cell_type": "markdown",
      "metadata": {
        "id": "jsFYrLG7DSVJ"
      },
      "source": [
        "# Train Neural Network"
      ]
    },
    {
      "cell_type": "code",
      "execution_count": null,
      "metadata": {
        "id": "ugHwI47Tb2M8"
      },
      "outputs": [],
      "source": [
        "def single_layer_model(x1, x2, x3, w1, w2, w3, b):\n",
        "    Z = w1*x1 + w2*x2 + w3*x3 + b\n",
        "    Y_pred = activ_func(Z)\n",
        "    return Y_pred, Z"
      ]
    },
    {
      "cell_type": "code",
      "execution_count": null,
      "metadata": {
        "colab": {
          "base_uri": "https://localhost:8080/"
        },
        "id": "TKVrOgzt0a5s",
        "outputId": "681942e4-85cb-4ed6-e385-f3d5b9652787"
      },
      "outputs": [
        {
          "output_type": "stream",
          "name": "stdout",
          "text": [
            "Training Time:  62.964 Seconds\n"
          ]
        }
      ],
      "source": [
        "start_time = time.time()\n",
        "data_storage = pd.DataFrame(columns=['Z', 'y_pred', 'RMSE', 'w1_gradient', 'w2_gradient', 'w3_gradient', 'b_gradient', 'w1', 'w2', 'w3', 'b'])\n",
        "for i in range(iterations):\n",
        "\n",
        "    # Forward propagation\n",
        "    Y_pred, Z = single_layer_model(x1, x2, x3, w1, w2, w3, b)\n",
        "\n",
        "    # calculate prediction error\n",
        "    loss = MSE(Y_pred, y)\n",
        "    RMSE = np.sqrt(loss)\n",
        "\n",
        "    # Backward propagation\n",
        "    # calculate the gradient for each parameter\n",
        "    w1_gradient = single_parameter_back_propagation(Y_pred, y, Z, 'w1')\n",
        "    w2_gradient = single_parameter_back_propagation(Y_pred, y, Z, 'w2')\n",
        "    w3_gradient = single_parameter_back_propagation(Y_pred, y, Z, 'w3')\n",
        "    b_gradient = single_parameter_back_propagation(Y_pred, y, Z, 'b')\n",
        "\n",
        "    # update weights and bias\n",
        "    # the gradient vector points in the direction that will reduce error the most.\n",
        "    # this value is negitive so you must subtract the gradient from the weight so the negitives cancel.\n",
        "    w1 -= lr * w1_gradient\n",
        "    w2 -= lr * w2_gradient\n",
        "    w3 -= lr * w3_gradient\n",
        "    b -= lr * b_gradient\n",
        "\n",
        "    # store values in df\n",
        "    data_storage.loc[i] = [Z, Y_pred, RMSE, w1_gradient, w2_gradient, w3_gradient, b_gradient, w1, w2, w3, b]\n",
        "end_time = time.time()\n",
        "print('Training Time: ', round(end_time - start_time, 4), 'Seconds')\n"
      ]
    },
    {
      "cell_type": "markdown",
      "metadata": {
        "id": "G1hSMOOkH0vt"
      },
      "source": [
        "# Performance Evaluation"
      ]
    },
    {
      "cell_type": "code",
      "execution_count": null,
      "metadata": {
        "colab": {
          "base_uri": "https://localhost:8080/",
          "height": 196
        },
        "id": "1RmK_77mHk18",
        "outputId": "ecf6068b-e00c-4f4f-a1de-79e1d84c6561"
      },
      "outputs": [
        {
          "output_type": "execute_result",
          "data": {
            "text/plain": [
              "                                                   Z  \\\n",
              "0  [0.9537894128145482, 0.30779275041594106, 0.82...   \n",
              "1  [0.9718436959150554, 0.3211107925993589, 0.845...   \n",
              "2  [0.9898411355794529, 0.33438437327036885, 0.86...   \n",
              "\n",
              "                                              y_pred      RMSE  w1_gradient  \\\n",
              "0  [0.9537894128145482, 0.30779275041594106, 0.82...  5.308259    -0.738085   \n",
              "1  [0.9718436959150554, 0.3211107925993589, 0.845...  5.294491    -0.734988   \n",
              "2  [0.9898411355794529, 0.33438437327036885, 0.86...  5.280774    -0.731901   \n",
              "\n",
              "   w2_gradient  w3_gradient  b_gradient        w1        w2        w3  \\\n",
              "0    -0.971136    -0.966814   -1.850864  0.126759  0.797789  0.482549   \n",
              "1    -0.968556    -0.964260   -1.844837  0.130434  0.802632  0.487370   \n",
              "2    -0.965984    -0.961713   -1.838830  0.134094  0.807462  0.492179   \n",
              "\n",
              "          b  \n",
              "0  0.009254  \n",
              "1  0.018479  \n",
              "2  0.027673  "
            ],
            "text/html": [
              "\n",
              "  <div id=\"df-4718b3ec-0288-4f5d-b0c2-bcb41396d965\" class=\"colab-df-container\">\n",
              "    <div>\n",
              "<style scoped>\n",
              "    .dataframe tbody tr th:only-of-type {\n",
              "        vertical-align: middle;\n",
              "    }\n",
              "\n",
              "    .dataframe tbody tr th {\n",
              "        vertical-align: top;\n",
              "    }\n",
              "\n",
              "    .dataframe thead th {\n",
              "        text-align: right;\n",
              "    }\n",
              "</style>\n",
              "<table border=\"1\" class=\"dataframe\">\n",
              "  <thead>\n",
              "    <tr style=\"text-align: right;\">\n",
              "      <th></th>\n",
              "      <th>Z</th>\n",
              "      <th>y_pred</th>\n",
              "      <th>RMSE</th>\n",
              "      <th>w1_gradient</th>\n",
              "      <th>w2_gradient</th>\n",
              "      <th>w3_gradient</th>\n",
              "      <th>b_gradient</th>\n",
              "      <th>w1</th>\n",
              "      <th>w2</th>\n",
              "      <th>w3</th>\n",
              "      <th>b</th>\n",
              "    </tr>\n",
              "  </thead>\n",
              "  <tbody>\n",
              "    <tr>\n",
              "      <th>0</th>\n",
              "      <td>[0.9537894128145482, 0.30779275041594106, 0.82...</td>\n",
              "      <td>[0.9537894128145482, 0.30779275041594106, 0.82...</td>\n",
              "      <td>5.308259</td>\n",
              "      <td>-0.738085</td>\n",
              "      <td>-0.971136</td>\n",
              "      <td>-0.966814</td>\n",
              "      <td>-1.850864</td>\n",
              "      <td>0.126759</td>\n",
              "      <td>0.797789</td>\n",
              "      <td>0.482549</td>\n",
              "      <td>0.009254</td>\n",
              "    </tr>\n",
              "    <tr>\n",
              "      <th>1</th>\n",
              "      <td>[0.9718436959150554, 0.3211107925993589, 0.845...</td>\n",
              "      <td>[0.9718436959150554, 0.3211107925993589, 0.845...</td>\n",
              "      <td>5.294491</td>\n",
              "      <td>-0.734988</td>\n",
              "      <td>-0.968556</td>\n",
              "      <td>-0.964260</td>\n",
              "      <td>-1.844837</td>\n",
              "      <td>0.130434</td>\n",
              "      <td>0.802632</td>\n",
              "      <td>0.487370</td>\n",
              "      <td>0.018479</td>\n",
              "    </tr>\n",
              "    <tr>\n",
              "      <th>2</th>\n",
              "      <td>[0.9898411355794529, 0.33438437327036885, 0.86...</td>\n",
              "      <td>[0.9898411355794529, 0.33438437327036885, 0.86...</td>\n",
              "      <td>5.280774</td>\n",
              "      <td>-0.731901</td>\n",
              "      <td>-0.965984</td>\n",
              "      <td>-0.961713</td>\n",
              "      <td>-1.838830</td>\n",
              "      <td>0.134094</td>\n",
              "      <td>0.807462</td>\n",
              "      <td>0.492179</td>\n",
              "      <td>0.027673</td>\n",
              "    </tr>\n",
              "  </tbody>\n",
              "</table>\n",
              "</div>\n",
              "    <div class=\"colab-df-buttons\">\n",
              "\n",
              "  <div class=\"colab-df-container\">\n",
              "    <button class=\"colab-df-convert\" onclick=\"convertToInteractive('df-4718b3ec-0288-4f5d-b0c2-bcb41396d965')\"\n",
              "            title=\"Convert this dataframe to an interactive table.\"\n",
              "            style=\"display:none;\">\n",
              "\n",
              "  <svg xmlns=\"http://www.w3.org/2000/svg\" height=\"24px\" viewBox=\"0 -960 960 960\">\n",
              "    <path d=\"M120-120v-720h720v720H120Zm60-500h600v-160H180v160Zm220 220h160v-160H400v160Zm0 220h160v-160H400v160ZM180-400h160v-160H180v160Zm440 0h160v-160H620v160ZM180-180h160v-160H180v160Zm440 0h160v-160H620v160Z\"/>\n",
              "  </svg>\n",
              "    </button>\n",
              "\n",
              "  <style>\n",
              "    .colab-df-container {\n",
              "      display:flex;\n",
              "      gap: 12px;\n",
              "    }\n",
              "\n",
              "    .colab-df-convert {\n",
              "      background-color: #E8F0FE;\n",
              "      border: none;\n",
              "      border-radius: 50%;\n",
              "      cursor: pointer;\n",
              "      display: none;\n",
              "      fill: #1967D2;\n",
              "      height: 32px;\n",
              "      padding: 0 0 0 0;\n",
              "      width: 32px;\n",
              "    }\n",
              "\n",
              "    .colab-df-convert:hover {\n",
              "      background-color: #E2EBFA;\n",
              "      box-shadow: 0px 1px 2px rgba(60, 64, 67, 0.3), 0px 1px 3px 1px rgba(60, 64, 67, 0.15);\n",
              "      fill: #174EA6;\n",
              "    }\n",
              "\n",
              "    .colab-df-buttons div {\n",
              "      margin-bottom: 4px;\n",
              "    }\n",
              "\n",
              "    [theme=dark] .colab-df-convert {\n",
              "      background-color: #3B4455;\n",
              "      fill: #D2E3FC;\n",
              "    }\n",
              "\n",
              "    [theme=dark] .colab-df-convert:hover {\n",
              "      background-color: #434B5C;\n",
              "      box-shadow: 0px 1px 3px 1px rgba(0, 0, 0, 0.15);\n",
              "      filter: drop-shadow(0px 1px 2px rgba(0, 0, 0, 0.3));\n",
              "      fill: #FFFFFF;\n",
              "    }\n",
              "  </style>\n",
              "\n",
              "    <script>\n",
              "      const buttonEl =\n",
              "        document.querySelector('#df-4718b3ec-0288-4f5d-b0c2-bcb41396d965 button.colab-df-convert');\n",
              "      buttonEl.style.display =\n",
              "        google.colab.kernel.accessAllowed ? 'block' : 'none';\n",
              "\n",
              "      async function convertToInteractive(key) {\n",
              "        const element = document.querySelector('#df-4718b3ec-0288-4f5d-b0c2-bcb41396d965');\n",
              "        const dataTable =\n",
              "          await google.colab.kernel.invokeFunction('convertToInteractive',\n",
              "                                                    [key], {});\n",
              "        if (!dataTable) return;\n",
              "\n",
              "        const docLinkHtml = 'Like what you see? Visit the ' +\n",
              "          '<a target=\"_blank\" href=https://colab.research.google.com/notebooks/data_table.ipynb>data table notebook</a>'\n",
              "          + ' to learn more about interactive tables.';\n",
              "        element.innerHTML = '';\n",
              "        dataTable['output_type'] = 'display_data';\n",
              "        await google.colab.output.renderOutput(dataTable, element);\n",
              "        const docLink = document.createElement('div');\n",
              "        docLink.innerHTML = docLinkHtml;\n",
              "        element.appendChild(docLink);\n",
              "      }\n",
              "    </script>\n",
              "  </div>\n",
              "\n",
              "\n",
              "<div id=\"df-fb8caae5-10c7-4f0e-9e89-75463ac062fb\">\n",
              "  <button class=\"colab-df-quickchart\" onclick=\"quickchart('df-fb8caae5-10c7-4f0e-9e89-75463ac062fb')\"\n",
              "            title=\"Suggest charts\"\n",
              "            style=\"display:none;\">\n",
              "\n",
              "<svg xmlns=\"http://www.w3.org/2000/svg\" height=\"24px\"viewBox=\"0 0 24 24\"\n",
              "     width=\"24px\">\n",
              "    <g>\n",
              "        <path d=\"M19 3H5c-1.1 0-2 .9-2 2v14c0 1.1.9 2 2 2h14c1.1 0 2-.9 2-2V5c0-1.1-.9-2-2-2zM9 17H7v-7h2v7zm4 0h-2V7h2v10zm4 0h-2v-4h2v4z\"/>\n",
              "    </g>\n",
              "</svg>\n",
              "  </button>\n",
              "\n",
              "<style>\n",
              "  .colab-df-quickchart {\n",
              "      --bg-color: #E8F0FE;\n",
              "      --fill-color: #1967D2;\n",
              "      --hover-bg-color: #E2EBFA;\n",
              "      --hover-fill-color: #174EA6;\n",
              "      --disabled-fill-color: #AAA;\n",
              "      --disabled-bg-color: #DDD;\n",
              "  }\n",
              "\n",
              "  [theme=dark] .colab-df-quickchart {\n",
              "      --bg-color: #3B4455;\n",
              "      --fill-color: #D2E3FC;\n",
              "      --hover-bg-color: #434B5C;\n",
              "      --hover-fill-color: #FFFFFF;\n",
              "      --disabled-bg-color: #3B4455;\n",
              "      --disabled-fill-color: #666;\n",
              "  }\n",
              "\n",
              "  .colab-df-quickchart {\n",
              "    background-color: var(--bg-color);\n",
              "    border: none;\n",
              "    border-radius: 50%;\n",
              "    cursor: pointer;\n",
              "    display: none;\n",
              "    fill: var(--fill-color);\n",
              "    height: 32px;\n",
              "    padding: 0;\n",
              "    width: 32px;\n",
              "  }\n",
              "\n",
              "  .colab-df-quickchart:hover {\n",
              "    background-color: var(--hover-bg-color);\n",
              "    box-shadow: 0 1px 2px rgba(60, 64, 67, 0.3), 0 1px 3px 1px rgba(60, 64, 67, 0.15);\n",
              "    fill: var(--button-hover-fill-color);\n",
              "  }\n",
              "\n",
              "  .colab-df-quickchart-complete:disabled,\n",
              "  .colab-df-quickchart-complete:disabled:hover {\n",
              "    background-color: var(--disabled-bg-color);\n",
              "    fill: var(--disabled-fill-color);\n",
              "    box-shadow: none;\n",
              "  }\n",
              "\n",
              "  .colab-df-spinner {\n",
              "    border: 2px solid var(--fill-color);\n",
              "    border-color: transparent;\n",
              "    border-bottom-color: var(--fill-color);\n",
              "    animation:\n",
              "      spin 1s steps(1) infinite;\n",
              "  }\n",
              "\n",
              "  @keyframes spin {\n",
              "    0% {\n",
              "      border-color: transparent;\n",
              "      border-bottom-color: var(--fill-color);\n",
              "      border-left-color: var(--fill-color);\n",
              "    }\n",
              "    20% {\n",
              "      border-color: transparent;\n",
              "      border-left-color: var(--fill-color);\n",
              "      border-top-color: var(--fill-color);\n",
              "    }\n",
              "    30% {\n",
              "      border-color: transparent;\n",
              "      border-left-color: var(--fill-color);\n",
              "      border-top-color: var(--fill-color);\n",
              "      border-right-color: var(--fill-color);\n",
              "    }\n",
              "    40% {\n",
              "      border-color: transparent;\n",
              "      border-right-color: var(--fill-color);\n",
              "      border-top-color: var(--fill-color);\n",
              "    }\n",
              "    60% {\n",
              "      border-color: transparent;\n",
              "      border-right-color: var(--fill-color);\n",
              "    }\n",
              "    80% {\n",
              "      border-color: transparent;\n",
              "      border-right-color: var(--fill-color);\n",
              "      border-bottom-color: var(--fill-color);\n",
              "    }\n",
              "    90% {\n",
              "      border-color: transparent;\n",
              "      border-bottom-color: var(--fill-color);\n",
              "    }\n",
              "  }\n",
              "</style>\n",
              "\n",
              "  <script>\n",
              "    async function quickchart(key) {\n",
              "      const quickchartButtonEl =\n",
              "        document.querySelector('#' + key + ' button');\n",
              "      quickchartButtonEl.disabled = true;  // To prevent multiple clicks.\n",
              "      quickchartButtonEl.classList.add('colab-df-spinner');\n",
              "      try {\n",
              "        const charts = await google.colab.kernel.invokeFunction(\n",
              "            'suggestCharts', [key], {});\n",
              "      } catch (error) {\n",
              "        console.error('Error during call to suggestCharts:', error);\n",
              "      }\n",
              "      quickchartButtonEl.classList.remove('colab-df-spinner');\n",
              "      quickchartButtonEl.classList.add('colab-df-quickchart-complete');\n",
              "    }\n",
              "    (() => {\n",
              "      let quickchartButtonEl =\n",
              "        document.querySelector('#df-fb8caae5-10c7-4f0e-9e89-75463ac062fb button');\n",
              "      quickchartButtonEl.style.display =\n",
              "        google.colab.kernel.accessAllowed ? 'block' : 'none';\n",
              "    })();\n",
              "  </script>\n",
              "</div>\n",
              "\n",
              "    </div>\n",
              "  </div>\n"
            ],
            "application/vnd.google.colaboratory.intrinsic+json": {
              "type": "dataframe",
              "variable_name": "data_storage",
              "summary": "{\n  \"name\": \"data_storage\",\n  \"rows\": 25000,\n  \"fields\": [\n    {\n      \"column\": \"Z\",\n      \"properties\": {\n        \"dtype\": \"object\",\n        \"semantic_type\": \"\",\n        \"description\": \"\"\n      }\n    },\n    {\n      \"column\": \"y_pred\",\n      \"properties\": {\n        \"dtype\": \"object\",\n        \"semantic_type\": \"\",\n        \"description\": \"\"\n      }\n    },\n    {\n      \"column\": \"RMSE\",\n      \"properties\": {\n        \"dtype\": \"number\",\n        \"std\": 0.5687836480750437,\n        \"min\": 0.2619290767688198,\n        \"max\": 5.308259011730151,\n        \"num_unique_values\": 25000,\n        \"samples\": [\n          0.5482199516253295,\n          0.2688656207157741,\n          0.4309682547711543\n        ],\n        \"semantic_type\": \"\",\n        \"description\": \"\"\n      }\n    },\n    {\n      \"column\": \"w1_gradient\",\n      \"properties\": {\n        \"dtype\": \"number\",\n        \"std\": 0.06514854958408046,\n        \"min\": -0.738085372711536,\n        \"max\": 0.15858202878011698,\n        \"num_unique_values\": 25000,\n        \"samples\": [\n          0.045149578548909296,\n          0.008228865846206856,\n          0.026620333452851454\n        ],\n        \"semantic_type\": \"\",\n        \"description\": \"\"\n      }\n    },\n    {\n      \"column\": \"w2_gradient\",\n      \"properties\": {\n        \"dtype\": \"number\",\n        \"std\": 0.09236150209429705,\n        \"min\": -0.9711362741227637,\n        \"max\": 0.006009713269582589,\n        \"num_unique_values\": 25000,\n        \"samples\": [\n          -0.016704463766741496,\n          0.005502074763166562,\n          -0.0025645278419308215\n        ],\n        \"semantic_type\": \"\",\n        \"description\": \"\"\n      }\n    },\n    {\n      \"column\": \"w3_gradient\",\n      \"properties\": {\n        \"dtype\": \"number\",\n        \"std\": 0.09163923071199968,\n        \"min\": -0.9668137959571002,\n        \"max\": 0.0017480400086441667,\n        \"num_unique_values\": 25000,\n        \"samples\": [\n          -0.02330697476365829,\n          0.001745895084229756,\n          -0.008891527574123384\n        ],\n        \"semantic_type\": \"\",\n        \"description\": \"\"\n      }\n    },\n    {\n      \"column\": \"b_gradient\",\n      \"properties\": {\n        \"dtype\": \"number\",\n        \"std\": 0.1419091063403805,\n        \"min\": -1.8508639925384496,\n        \"max\": 0.006393466379611179,\n        \"num_unique_values\": 25000,\n        \"samples\": [\n          -0.007039134823574466,\n          -0.0073325202352283,\n          -0.009199649683218411\n        ],\n        \"semantic_type\": \"\",\n        \"description\": \"\"\n      }\n    },\n    {\n      \"column\": \"w1\",\n      \"properties\": {\n        \"dtype\": \"number\",\n        \"std\": 1.2060994257568818,\n        \"min\": -3.780940312053097,\n        \"max\": 0.7736208148070036,\n        \"num_unique_values\": 25000,\n        \"samples\": [\n          -2.287128578002753,\n          -3.7412618924618024,\n          -2.7731068690690885\n        ],\n        \"semantic_type\": \"\",\n        \"description\": \"\"\n      }\n    },\n    {\n      \"column\": \"w2\",\n      \"properties\": {\n        \"dtype\": \"number\",\n        \"std\": 0.5964797520986513,\n        \"min\": 0.7977889967040377,\n        \"max\": 4.705192782053232,\n        \"num_unique_values\": 25000,\n        \"samples\": [\n          4.578724927199397,\n          4.370519803080176,\n          4.6994859598518\n        ],\n        \"semantic_type\": \"\",\n        \"description\": \"\"\n      }\n    },\n    {\n      \"column\": \"w3\",\n      \"properties\": {\n        \"dtype\": \"number\",\n        \"std\": 0.7267257677630674,\n        \"min\": 0.48254888118516276,\n        \"max\": 4.750260033697438,\n        \"num_unique_values\": 25000,\n        \"samples\": [\n          4.449340479799588,\n          4.692753593814816,\n          4.660979780364022\n        ],\n        \"semantic_type\": \"\",\n        \"description\": \"\"\n      }\n    },\n    {\n      \"column\": \"b\",\n      \"properties\": {\n        \"dtype\": \"number\",\n        \"std\": 0.3737730527254802,\n        \"min\": 0.009254319962692248,\n        \"max\": 3.5550822915698466,\n        \"num_unique_values\": 25000,\n        \"samples\": [\n          2.771349139443445,\n          3.5195963553453775,\n          2.888008338305435\n        ],\n        \"semantic_type\": \"\",\n        \"description\": \"\"\n      }\n    }\n  ]\n}"
            }
          },
          "metadata": {},
          "execution_count": 75
        }
      ],
      "source": [
        "data_storage.head(3)"
      ]
    },
    {
      "cell_type": "code",
      "execution_count": null,
      "metadata": {
        "colab": {
          "base_uri": "https://localhost:8080/",
          "height": 196
        },
        "id": "mnC9slZuHqwN",
        "outputId": "6e0736fa-a4ab-482a-99b0-cbf2356f51c1"
      },
      "outputs": [
        {
          "output_type": "execute_result",
          "data": {
            "text/plain": [
              "                                                       Z  \\\n",
              "24997  [7.449012550633498, 2.8381177123178114, 8.6637...   \n",
              "24998  [7.4489995492262295, 2.83812209737705, 8.66377...   \n",
              "24999  [7.448986548173227, 2.8381264823958894, 8.6637...   \n",
              "\n",
              "                                                  y_pred      RMSE  \\\n",
              "24997  [7.449012550633498, 2.8381177123178114, 8.6637...  0.261943   \n",
              "24998  [7.4489995492262295, 2.83812209737705, 8.66377...  0.261936   \n",
              "24999  [7.448986548173227, 2.8381264823958894, 8.6637...  0.261929   \n",
              "\n",
              "       w1_gradient  w2_gradient  w3_gradient  b_gradient        w1        w2  \\\n",
              "24997     0.007922      0.00535     0.001747   -0.007109 -3.780861  4.343902   \n",
              "24998     0.007922      0.00535     0.001747   -0.007109 -3.780901  4.343875   \n",
              "24999     0.007921      0.00535     0.001747   -0.007108 -3.780940  4.343848   \n",
              "\n",
              "             w3         b  \n",
              "24997  4.684182  3.555011  \n",
              "24998  4.684173  3.555047  \n",
              "24999  4.684165  3.555082  "
            ],
            "text/html": [
              "\n",
              "  <div id=\"df-ed7341e8-a8c1-488e-8f62-824174d8c8e6\" class=\"colab-df-container\">\n",
              "    <div>\n",
              "<style scoped>\n",
              "    .dataframe tbody tr th:only-of-type {\n",
              "        vertical-align: middle;\n",
              "    }\n",
              "\n",
              "    .dataframe tbody tr th {\n",
              "        vertical-align: top;\n",
              "    }\n",
              "\n",
              "    .dataframe thead th {\n",
              "        text-align: right;\n",
              "    }\n",
              "</style>\n",
              "<table border=\"1\" class=\"dataframe\">\n",
              "  <thead>\n",
              "    <tr style=\"text-align: right;\">\n",
              "      <th></th>\n",
              "      <th>Z</th>\n",
              "      <th>y_pred</th>\n",
              "      <th>RMSE</th>\n",
              "      <th>w1_gradient</th>\n",
              "      <th>w2_gradient</th>\n",
              "      <th>w3_gradient</th>\n",
              "      <th>b_gradient</th>\n",
              "      <th>w1</th>\n",
              "      <th>w2</th>\n",
              "      <th>w3</th>\n",
              "      <th>b</th>\n",
              "    </tr>\n",
              "  </thead>\n",
              "  <tbody>\n",
              "    <tr>\n",
              "      <th>24997</th>\n",
              "      <td>[7.449012550633498, 2.8381177123178114, 8.6637...</td>\n",
              "      <td>[7.449012550633498, 2.8381177123178114, 8.6637...</td>\n",
              "      <td>0.261943</td>\n",
              "      <td>0.007922</td>\n",
              "      <td>0.00535</td>\n",
              "      <td>0.001747</td>\n",
              "      <td>-0.007109</td>\n",
              "      <td>-3.780861</td>\n",
              "      <td>4.343902</td>\n",
              "      <td>4.684182</td>\n",
              "      <td>3.555011</td>\n",
              "    </tr>\n",
              "    <tr>\n",
              "      <th>24998</th>\n",
              "      <td>[7.4489995492262295, 2.83812209737705, 8.66377...</td>\n",
              "      <td>[7.4489995492262295, 2.83812209737705, 8.66377...</td>\n",
              "      <td>0.261936</td>\n",
              "      <td>0.007922</td>\n",
              "      <td>0.00535</td>\n",
              "      <td>0.001747</td>\n",
              "      <td>-0.007109</td>\n",
              "      <td>-3.780901</td>\n",
              "      <td>4.343875</td>\n",
              "      <td>4.684173</td>\n",
              "      <td>3.555047</td>\n",
              "    </tr>\n",
              "    <tr>\n",
              "      <th>24999</th>\n",
              "      <td>[7.448986548173227, 2.8381264823958894, 8.6637...</td>\n",
              "      <td>[7.448986548173227, 2.8381264823958894, 8.6637...</td>\n",
              "      <td>0.261929</td>\n",
              "      <td>0.007921</td>\n",
              "      <td>0.00535</td>\n",
              "      <td>0.001747</td>\n",
              "      <td>-0.007108</td>\n",
              "      <td>-3.780940</td>\n",
              "      <td>4.343848</td>\n",
              "      <td>4.684165</td>\n",
              "      <td>3.555082</td>\n",
              "    </tr>\n",
              "  </tbody>\n",
              "</table>\n",
              "</div>\n",
              "    <div class=\"colab-df-buttons\">\n",
              "\n",
              "  <div class=\"colab-df-container\">\n",
              "    <button class=\"colab-df-convert\" onclick=\"convertToInteractive('df-ed7341e8-a8c1-488e-8f62-824174d8c8e6')\"\n",
              "            title=\"Convert this dataframe to an interactive table.\"\n",
              "            style=\"display:none;\">\n",
              "\n",
              "  <svg xmlns=\"http://www.w3.org/2000/svg\" height=\"24px\" viewBox=\"0 -960 960 960\">\n",
              "    <path d=\"M120-120v-720h720v720H120Zm60-500h600v-160H180v160Zm220 220h160v-160H400v160Zm0 220h160v-160H400v160ZM180-400h160v-160H180v160Zm440 0h160v-160H620v160ZM180-180h160v-160H180v160Zm440 0h160v-160H620v160Z\"/>\n",
              "  </svg>\n",
              "    </button>\n",
              "\n",
              "  <style>\n",
              "    .colab-df-container {\n",
              "      display:flex;\n",
              "      gap: 12px;\n",
              "    }\n",
              "\n",
              "    .colab-df-convert {\n",
              "      background-color: #E8F0FE;\n",
              "      border: none;\n",
              "      border-radius: 50%;\n",
              "      cursor: pointer;\n",
              "      display: none;\n",
              "      fill: #1967D2;\n",
              "      height: 32px;\n",
              "      padding: 0 0 0 0;\n",
              "      width: 32px;\n",
              "    }\n",
              "\n",
              "    .colab-df-convert:hover {\n",
              "      background-color: #E2EBFA;\n",
              "      box-shadow: 0px 1px 2px rgba(60, 64, 67, 0.3), 0px 1px 3px 1px rgba(60, 64, 67, 0.15);\n",
              "      fill: #174EA6;\n",
              "    }\n",
              "\n",
              "    .colab-df-buttons div {\n",
              "      margin-bottom: 4px;\n",
              "    }\n",
              "\n",
              "    [theme=dark] .colab-df-convert {\n",
              "      background-color: #3B4455;\n",
              "      fill: #D2E3FC;\n",
              "    }\n",
              "\n",
              "    [theme=dark] .colab-df-convert:hover {\n",
              "      background-color: #434B5C;\n",
              "      box-shadow: 0px 1px 3px 1px rgba(0, 0, 0, 0.15);\n",
              "      filter: drop-shadow(0px 1px 2px rgba(0, 0, 0, 0.3));\n",
              "      fill: #FFFFFF;\n",
              "    }\n",
              "  </style>\n",
              "\n",
              "    <script>\n",
              "      const buttonEl =\n",
              "        document.querySelector('#df-ed7341e8-a8c1-488e-8f62-824174d8c8e6 button.colab-df-convert');\n",
              "      buttonEl.style.display =\n",
              "        google.colab.kernel.accessAllowed ? 'block' : 'none';\n",
              "\n",
              "      async function convertToInteractive(key) {\n",
              "        const element = document.querySelector('#df-ed7341e8-a8c1-488e-8f62-824174d8c8e6');\n",
              "        const dataTable =\n",
              "          await google.colab.kernel.invokeFunction('convertToInteractive',\n",
              "                                                    [key], {});\n",
              "        if (!dataTable) return;\n",
              "\n",
              "        const docLinkHtml = 'Like what you see? Visit the ' +\n",
              "          '<a target=\"_blank\" href=https://colab.research.google.com/notebooks/data_table.ipynb>data table notebook</a>'\n",
              "          + ' to learn more about interactive tables.';\n",
              "        element.innerHTML = '';\n",
              "        dataTable['output_type'] = 'display_data';\n",
              "        await google.colab.output.renderOutput(dataTable, element);\n",
              "        const docLink = document.createElement('div');\n",
              "        docLink.innerHTML = docLinkHtml;\n",
              "        element.appendChild(docLink);\n",
              "      }\n",
              "    </script>\n",
              "  </div>\n",
              "\n",
              "\n",
              "<div id=\"df-ef3b8ed5-44c0-4af1-95c0-3d585f97c71c\">\n",
              "  <button class=\"colab-df-quickchart\" onclick=\"quickchart('df-ef3b8ed5-44c0-4af1-95c0-3d585f97c71c')\"\n",
              "            title=\"Suggest charts\"\n",
              "            style=\"display:none;\">\n",
              "\n",
              "<svg xmlns=\"http://www.w3.org/2000/svg\" height=\"24px\"viewBox=\"0 0 24 24\"\n",
              "     width=\"24px\">\n",
              "    <g>\n",
              "        <path d=\"M19 3H5c-1.1 0-2 .9-2 2v14c0 1.1.9 2 2 2h14c1.1 0 2-.9 2-2V5c0-1.1-.9-2-2-2zM9 17H7v-7h2v7zm4 0h-2V7h2v10zm4 0h-2v-4h2v4z\"/>\n",
              "    </g>\n",
              "</svg>\n",
              "  </button>\n",
              "\n",
              "<style>\n",
              "  .colab-df-quickchart {\n",
              "      --bg-color: #E8F0FE;\n",
              "      --fill-color: #1967D2;\n",
              "      --hover-bg-color: #E2EBFA;\n",
              "      --hover-fill-color: #174EA6;\n",
              "      --disabled-fill-color: #AAA;\n",
              "      --disabled-bg-color: #DDD;\n",
              "  }\n",
              "\n",
              "  [theme=dark] .colab-df-quickchart {\n",
              "      --bg-color: #3B4455;\n",
              "      --fill-color: #D2E3FC;\n",
              "      --hover-bg-color: #434B5C;\n",
              "      --hover-fill-color: #FFFFFF;\n",
              "      --disabled-bg-color: #3B4455;\n",
              "      --disabled-fill-color: #666;\n",
              "  }\n",
              "\n",
              "  .colab-df-quickchart {\n",
              "    background-color: var(--bg-color);\n",
              "    border: none;\n",
              "    border-radius: 50%;\n",
              "    cursor: pointer;\n",
              "    display: none;\n",
              "    fill: var(--fill-color);\n",
              "    height: 32px;\n",
              "    padding: 0;\n",
              "    width: 32px;\n",
              "  }\n",
              "\n",
              "  .colab-df-quickchart:hover {\n",
              "    background-color: var(--hover-bg-color);\n",
              "    box-shadow: 0 1px 2px rgba(60, 64, 67, 0.3), 0 1px 3px 1px rgba(60, 64, 67, 0.15);\n",
              "    fill: var(--button-hover-fill-color);\n",
              "  }\n",
              "\n",
              "  .colab-df-quickchart-complete:disabled,\n",
              "  .colab-df-quickchart-complete:disabled:hover {\n",
              "    background-color: var(--disabled-bg-color);\n",
              "    fill: var(--disabled-fill-color);\n",
              "    box-shadow: none;\n",
              "  }\n",
              "\n",
              "  .colab-df-spinner {\n",
              "    border: 2px solid var(--fill-color);\n",
              "    border-color: transparent;\n",
              "    border-bottom-color: var(--fill-color);\n",
              "    animation:\n",
              "      spin 1s steps(1) infinite;\n",
              "  }\n",
              "\n",
              "  @keyframes spin {\n",
              "    0% {\n",
              "      border-color: transparent;\n",
              "      border-bottom-color: var(--fill-color);\n",
              "      border-left-color: var(--fill-color);\n",
              "    }\n",
              "    20% {\n",
              "      border-color: transparent;\n",
              "      border-left-color: var(--fill-color);\n",
              "      border-top-color: var(--fill-color);\n",
              "    }\n",
              "    30% {\n",
              "      border-color: transparent;\n",
              "      border-left-color: var(--fill-color);\n",
              "      border-top-color: var(--fill-color);\n",
              "      border-right-color: var(--fill-color);\n",
              "    }\n",
              "    40% {\n",
              "      border-color: transparent;\n",
              "      border-right-color: var(--fill-color);\n",
              "      border-top-color: var(--fill-color);\n",
              "    }\n",
              "    60% {\n",
              "      border-color: transparent;\n",
              "      border-right-color: var(--fill-color);\n",
              "    }\n",
              "    80% {\n",
              "      border-color: transparent;\n",
              "      border-right-color: var(--fill-color);\n",
              "      border-bottom-color: var(--fill-color);\n",
              "    }\n",
              "    90% {\n",
              "      border-color: transparent;\n",
              "      border-bottom-color: var(--fill-color);\n",
              "    }\n",
              "  }\n",
              "</style>\n",
              "\n",
              "  <script>\n",
              "    async function quickchart(key) {\n",
              "      const quickchartButtonEl =\n",
              "        document.querySelector('#' + key + ' button');\n",
              "      quickchartButtonEl.disabled = true;  // To prevent multiple clicks.\n",
              "      quickchartButtonEl.classList.add('colab-df-spinner');\n",
              "      try {\n",
              "        const charts = await google.colab.kernel.invokeFunction(\n",
              "            'suggestCharts', [key], {});\n",
              "      } catch (error) {\n",
              "        console.error('Error during call to suggestCharts:', error);\n",
              "      }\n",
              "      quickchartButtonEl.classList.remove('colab-df-spinner');\n",
              "      quickchartButtonEl.classList.add('colab-df-quickchart-complete');\n",
              "    }\n",
              "    (() => {\n",
              "      let quickchartButtonEl =\n",
              "        document.querySelector('#df-ef3b8ed5-44c0-4af1-95c0-3d585f97c71c button');\n",
              "      quickchartButtonEl.style.display =\n",
              "        google.colab.kernel.accessAllowed ? 'block' : 'none';\n",
              "    })();\n",
              "  </script>\n",
              "</div>\n",
              "\n",
              "    </div>\n",
              "  </div>\n"
            ],
            "application/vnd.google.colaboratory.intrinsic+json": {
              "type": "dataframe",
              "summary": "{\n  \"name\": \"data_storage\",\n  \"rows\": 3,\n  \"fields\": [\n    {\n      \"column\": \"Z\",\n      \"properties\": {\n        \"dtype\": \"object\",\n        \"semantic_type\": \"\",\n        \"description\": \"\"\n      }\n    },\n    {\n      \"column\": \"y_pred\",\n      \"properties\": {\n        \"dtype\": \"object\",\n        \"semantic_type\": \"\",\n        \"description\": \"\"\n      }\n    },\n    {\n      \"column\": \"RMSE\",\n      \"properties\": {\n        \"dtype\": \"number\",\n        \"std\": 6.917838005547614e-06,\n        \"min\": 0.2619290767688198,\n        \"max\": 0.26194291244483,\n        \"num_unique_values\": 3,\n        \"samples\": [\n          0.26194291244483,\n          0.26193599446708693,\n          0.2619290767688198\n        ],\n        \"semantic_type\": \"\",\n        \"description\": \"\"\n      }\n    },\n    {\n      \"column\": \"w1_gradient\",\n      \"properties\": {\n        \"dtype\": \"number\",\n        \"std\": 3.0146654094263756e-07,\n        \"min\": 0.007921200062952603,\n        \"max\": 0.007921802996034354,\n        \"num_unique_values\": 3,\n        \"samples\": [\n          0.007921802996034354,\n          0.007921501518487604,\n          0.007921200062952603\n        ],\n        \"semantic_type\": \"\",\n        \"description\": \"\"\n      }\n    },\n    {\n      \"column\": \"w2_gradient\",\n      \"properties\": {\n        \"dtype\": \"number\",\n        \"std\": 1.5771049208862488e-07,\n        \"min\": 0.005350079066996603,\n        \"max\": 0.0053503944879807665,\n        \"num_unique_values\": 3,\n        \"samples\": [\n          0.0053503944879807665,\n          0.005350236780067652,\n          0.005350079066996603\n        ],\n        \"semantic_type\": \"\",\n        \"description\": \"\"\n      }\n    },\n    {\n      \"column\": \"w3_gradient\",\n      \"properties\": {\n        \"dtype\": \"number\",\n        \"std\": 4.108568822392389e-09,\n        \"min\": 0.0017472260343841506,\n        \"max\": 0.0017472342515197736,\n        \"num_unique_values\": 3,\n        \"samples\": [\n          0.0017472342515197736,\n          0.0017472301479439776,\n          0.0017472260343841506\n        ],\n        \"semantic_type\": \"\",\n        \"description\": \"\"\n      }\n    },\n    {\n      \"column\": \"b_gradient\",\n      \"properties\": {\n        \"dtype\": \"number\",\n        \"std\": 2.2554784495631785e-07,\n        \"min\": -0.0071088124612075625,\n        \"max\": -0.00710836136551766,\n        \"num_unique_values\": 3,\n        \"samples\": [\n          -0.0071088124612075625,\n          -0.007108586910737742,\n          -0.00710836136551766\n        ],\n        \"semantic_type\": \"\",\n        \"description\": \"\"\n      }\n    },\n    {\n      \"column\": \"w1\",\n      \"properties\": {\n        \"dtype\": \"number\",\n        \"std\": 3.960675395603714e-05,\n        \"min\": -3.780940312053097,\n        \"max\": -3.7808610985451896,\n        \"num_unique_values\": 3,\n        \"samples\": [\n          -3.7808610985451896,\n          -3.780900706052782,\n          -3.780940312053097\n        ],\n        \"semantic_type\": \"\",\n        \"description\": \"\"\n      }\n    },\n    {\n      \"column\": \"w2\",\n      \"properties\": {\n        \"dtype\": \"number\",\n        \"std\": 2.675078961863742e-05,\n        \"min\": 4.343848290739703,\n        \"max\": 4.343901792318938,\n        \"num_unique_values\": 3,\n        \"samples\": [\n          4.343901792318938,\n          4.343875041135038,\n          4.343848290739703\n        ],\n        \"semantic_type\": \"\",\n        \"description\": \"\"\n      }\n    },\n    {\n      \"column\": \"w3\",\n      \"properties\": {\n        \"dtype\": \"number\",\n        \"std\": 8.736140455935867e-06,\n        \"min\": 4.684164600208534,\n        \"max\": 4.684182072489446,\n        \"num_unique_values\": 3,\n        \"samples\": [\n          4.684182072489446,\n          4.684173336338707,\n          4.684164600208534\n        ],\n        \"semantic_type\": \"\",\n        \"description\": \"\"\n      }\n    },\n    {\n      \"column\": \"b\",\n      \"properties\": {\n        \"dtype\": \"number\",\n        \"std\": 3.554237069207976e-05,\n        \"min\": 3.5550112068284654,\n        \"max\": 3.5550822915698466,\n        \"num_unique_values\": 3,\n        \"samples\": [\n          3.5550112068284654,\n          3.555046749763019,\n          3.5550822915698466\n        ],\n        \"semantic_type\": \"\",\n        \"description\": \"\"\n      }\n    }\n  ]\n}"
            }
          },
          "metadata": {},
          "execution_count": 76
        }
      ],
      "source": [
        "data_storage.tail(3)"
      ]
    },
    {
      "cell_type": "code",
      "execution_count": null,
      "metadata": {
        "colab": {
          "base_uri": "https://localhost:8080/"
        },
        "id": "HC6O0ecuVGRf",
        "outputId": "dcb096dd-f78e-47af-9649-913a09c471f2"
      },
      "outputs": [
        {
          "output_type": "stream",
          "name": "stdout",
          "text": [
            "Prediction:  [7.44898655 2.83812648 8.66377922 5.95359426 1.00665898]\n",
            "Actual:  [7 3 9 6 1]\n",
            "How far away is my prediction on average? RMSE:  0.3\n"
          ]
        }
      ],
      "source": [
        "# compare the most recent guess with the actual\n",
        "print('Prediction: ', data_storage.iloc[-1]['y_pred'])\n",
        "print('Actual: ',y)\n",
        "print('How far away is my prediction on average? RMSE: ',round((np.sqrt(MSE(data_storage.iloc[-1]['y_pred'], y))), 1))"
      ]
    },
    {
      "cell_type": "markdown",
      "metadata": {
        "id": "xpfr8xnKDSVJ"
      },
      "source": [
        "# Predict Custom Health Scores"
      ]
    },
    {
      "cell_type": "code",
      "execution_count": null,
      "metadata": {
        "id": "KhHtSPVfFNwW"
      },
      "outputs": [],
      "source": [
        "# pull the trained weights and bias values from the last row of the dataframe\n",
        "fw1 = data_storage.iloc[-1]['w1']\n",
        "fw2 = data_storage.iloc[-1]['w2']\n",
        "fw3 = data_storage.iloc[-1]['w3']\n",
        "fb = data_storage.iloc[-1]['b']"
      ]
    },
    {
      "cell_type": "code",
      "execution_count": null,
      "metadata": {
        "id": "KHVYwoM6F3Y0"
      },
      "outputs": [],
      "source": [
        "def final_model(x1, x2, x3):\n",
        "    x1 = (x1 - 0) / (101 - 0)\n",
        "    x2 = (x2 - 0) / (11 - 0)\n",
        "    x3 = (x3 - 0) / (11 - 0)\n",
        "    Z = fw1*x1 + fw2*x2 + fw3*x3 + fb\n",
        "    Y_pred = activ_func(Z)\n",
        "\n",
        "    return Y_pred"
      ]
    },
    {
      "cell_type": "code",
      "execution_count": null,
      "metadata": {
        "colab": {
          "base_uri": "https://localhost:8080/"
        },
        "id": "c-RvA_OlF3bF",
        "outputId": "ade3a2bf-5952-4975-935d-a00bac470e51"
      },
      "outputs": [
        {
          "output_type": "stream",
          "name": "stdout",
          "text": [
            "5.350987039416118\n"
          ]
        }
      ],
      "source": [
        "# predict health values based on theee custom metrics\n",
        "age = 30\n",
        "health = 2\n",
        "diet = 5\n",
        "health = final_model(age, health, diet)\n",
        "print(health)"
      ]
    },
    {
      "cell_type": "markdown",
      "metadata": {
        "id": "jRCoJPm-ykpu"
      },
      "source": [
        "# Convergence Visuals\n",
        "## template code for visuals [link text](https://medium.com/@soudanik/building-a-deep-learning-model-by-hand-bd51feccdfc7)"
      ]
    },
    {
      "cell_type": "code",
      "execution_count": null,
      "metadata": {
        "colab": {
          "base_uri": "https://localhost:8080/",
          "height": 502
        },
        "id": "UyuESUJbGhnp",
        "outputId": "404f4ef5-07f8-4fe2-a4de-627ccc7b03d5"
      },
      "outputs": [
        {
          "output_type": "display_data",
          "data": {
            "text/plain": [
              "<Figure size 1500x500 with 5 Axes>"
            ],
            "image/png": "[encoded data removed]"
          },
          "metadata": {}
        }
      ],
      "source": [
        "# plot template\n",
        "fig, axs = plt.subplots(1, 5, figsize=(15, 5))  # Create 5 subplots on one line\n",
        "\n",
        "# plot RMSE\n",
        "axs[0].plot(range(iterations), data_storage['RMSE'])\n",
        "axs[0].set_title('RMSE over iterations')\n",
        "axs[0].set_xlabel('Iterations')\n",
        "axs[0].set_ylabel('RMSE')\n",
        "\n",
        "# plot w1\n",
        "axs[1].plot(range(iterations), data_storage['w1'])\n",
        "axs[1].set_title('W1 over iterations')\n",
        "axs[1].set_xlabel('Iterations')\n",
        "axs[1].set_ylabel('W1')\n",
        "\n",
        "# plot w2\n",
        "axs[2].plot(range(iterations), data_storage['w2'])\n",
        "axs[2].set_title('W2 over iterations')\n",
        "axs[2].set_xlabel('Iterations')\n",
        "axs[2].set_ylabel('W2')\n",
        "\n",
        "# plot w2\n",
        "axs[3].plot(range(iterations), data_storage['w3'])\n",
        "axs[3].set_title('W3 over iterations')\n",
        "axs[3].set_xlabel('Iterations')\n",
        "axs[3].set_ylabel('W3')\n",
        "\n",
        "# plot b\n",
        "axs[4].plot(range(iterations), data_storage['b'])\n",
        "axs[4].set_title('b over iterations')\n",
        "axs[4].set_xlabel('Iterations')\n",
        "axs[4].set_ylabel('b')\n",
        "\n",
        "# Set a common title for all subplots\n",
        "fig.suptitle(f\"Activation function: Identity function\\nLearning rate: {lr}\\nIterations: {iterations}\")\n",
        "plt.tight_layout()  # Adjust the padding between and around the subplots\n",
        "plt.show()"
      ]
    },
    {
      "cell_type": "markdown",
      "metadata": {
        "id": "ljnATwgK1Rdu"
      },
      "source": [
        "# Other Activation Functions"
      ]
    },
    {
      "cell_type": "markdown",
      "source": [
        "## Sigmoid"
      ],
      "metadata": {
        "id": "Xm8GPsCQI5wZ"
      }
    },
    {
      "cell_type": "code",
      "execution_count": 13,
      "metadata": {
        "id": "krIy-SUq1Rit"
      },
      "outputs": [],
      "source": [
        "# sigmoid activation function (non-linear)\n",
        "def sigmoid_activ_func(x):\n",
        "    for i in range(len(x)):\n",
        "      x[i] = 1 / (1 + np.exp(-x[i]))\n",
        "    return x\n",
        "\n",
        "# derivative of sigmoid activation function\n",
        "def d_sigmoid_activ_func(x):\n",
        "    x = sigmoid_activ_func(x)\n",
        "    x = x * (1 - x)\n",
        "    return x"
      ]
    },
    {
      "cell_type": "markdown",
      "source": [
        "![sigmoid.png](data:image/png;base64,iVBORw0KGgoAAAANSUhEUgAAAKMAAAAqBAMAAAAt/fajAAAAMFBMVEX///8AAAAAAAAAAAAAAAAAAAAAAAAAAAAAAAAAAAAAAAAAAAAAAAAAAAAAAAAAAAAv3aB7AAAAD3RSTlMAZiJUic0yEN3vq0R2mbvQvSoYAAAACXBIWXMAAA7EAAAOxAGVKw4bAAACqklEQVRIDe1WPWgTYRh+7i7JJbk0ubi0iNQbWlCL5EIQHVppSOxQFCIVB3E4UKki4olLncxUN4lLBV0yqGCngIsOwhXUQaVkEIQiqJOLYAgoiIi+X356d813yR239oUkz/u8z/vw3ZsvXz4gVChnQ7VzmsU3vzhsSGrXMuQAHe27s3QMIyT8E7g/9kMb1iMv/lzwqCtVTuE5415wCr4oscGRzTDuLacQkvoasp/T3uZwIykhuyc2B8jFcVPYuLF3ufAEkDYWcKEJvC/URvZzBHkUbyYMTJu31JkrqrSE48AnHJT1NaTVZJ06ttYpHnFavagThtnIAUvIaPoEhCp9I0IFmatiC5NIWl5tw/gDv3WcgtJi++UD8/iOhIrbRqSJe6DlOyLzz0e0qGGqhTWkKlgEHpKH3EZOw35CYhvXHYa+YVRHTao2xpo4DXrWHD11g4zO45gSa2FTIaOgs0xCsSLzqlQX2myGkxiz1Lgh1FEWUJPPCL7XZguVZ3nESiaKszWkVJSglCCWssDFo3hZuDZuKxmSLXfuzP5mnyLlJBCpu1J+kuTTjJV0cRUybWY74rqNPdE7wOs2IGClAeTt1tc4YifeqILt24A8oGLnQdRm5/LzduKJJJVKvX8wgdbkCto0QER3caOTtEaaQctX5fJJYBNUVeqkCBIJJt5hmZ/tOkhVWIRq3cz3e5wp3ZZJS+lO4LIZs6jaoleQmGZit+UEIhpj5Qf7PjNwnyUB4hLTdiy31h+f6xx4d/O0sRxxx4H9wBUmcq2SDhl3BJ3l4Ncj75xdUMuoSUvq3QZ6+3IVkkFkP8QvfeTzM6Vj+zbQs5wquE4WQfVp1ZeJ9T4CBn49nVKaPUeg+GarZW7zIVvgEx0epfs4SjBQV/QBykUIhiv1lWjDVSKV/wOzkLQCr9sWQgAAAABJRU5ErkJggg==)"
      ],
      "metadata": {
        "id": "0v3Tb-g1Y6-Y"
      }
    },
    {
      "cell_type": "markdown",
      "source": [
        "![sigmoid_derivitve.png](data:image/png;base64,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)"
      ],
      "metadata": {
        "id": "h4kFJ6LpmxZa"
      }
    },
    {
      "cell_type": "code",
      "source": [
        "# simple igmoid function for visual\n",
        "def sigmoid(x):\n",
        "    return 1 / (1 + np.exp(-x))\n",
        "\n",
        "# generate data for visual\n",
        "x_sig = np.linspace(-10, 10, 100)\n",
        "y_sig = sigmoid(x_sig)\n",
        "\n",
        "# plot\n",
        "plt.plot(x_sig, y_sig)\n",
        "plt.title('Sigmoid Function')\n",
        "plt.xlabel('x')\n",
        "plt.ylabel('sigmoid(x)')\n",
        "plt.grid(True)\n",
        "plt.show()"
      ],
      "metadata": {
        "colab": {
          "base_uri": "https://localhost:8080/",
          "height": 472
        },
        "id": "RVzn4CCRoB6C",
        "outputId": "8c9f62f6-ea4e-4543-c9f1-b97c8484ca0e"
      },
      "execution_count": 20,
      "outputs": [
        {
          "output_type": "display_data",
          "data": {
            "text/plain": [
              "<Figure size 640x480 with 1 Axes>"
            ],
            "image/png": "[encoded data removed]"
          },
          "metadata": {}
        }
      ]
    },
    {
      "cell_type": "markdown",
      "source": [
        "## derivitive  math [link text](https://mathworld.wolfram.com/SigmoidFunction.html)"
      ],
      "metadata": {
        "id": "VpzQPYLTYn1h"
      }
    },
    {
      "cell_type": "markdown",
      "source": [
        "## ReLu"
      ],
      "metadata": {
        "id": "4LV7gAnHJOMi"
      }
    },
    {
      "cell_type": "code",
      "source": [
        "# ReLu activation function (non-linear)\n",
        "def relu_activ_func(x):\n",
        "    for i in range(len(x)):\n",
        "        x[i] = max(0, x[i]) # ReLu\n",
        "    return x\n",
        "\n",
        "# Derivative of ReLu activation function\n",
        "def d_relu_activ_func(x):\n",
        "    for i in range(len(x)):\n",
        "        if x[i] > 0:\n",
        "            x[i] = 1\n",
        "        else:\n",
        "            x[i] = 0\n",
        "    return x"
      ],
      "metadata": {
        "id": "d-Q5fyVqJORH"
      },
      "execution_count": 14,
      "outputs": []
    },
    {
      "cell_type": "markdown",
      "source": [
        "![relu.png](data:image/png;base64,iVBORw0KGgoAAAANSUhEUgAAAIgAAAATBAMAAAC5NVjhAAAAMFBMVEX///8AAAAAAAAAAAAAAAAAAAAAAAAAAAAAAAAAAAAAAAAAAAAAAAAAAAAAAAAAAAAv3aB7AAAAD3RSTlMARIkiZlTdqxDvmc12uzLx0YIJAAAACXBIWXMAAA7EAAAOxAGVKw4bAAACN0lEQVQ4EZWSTWgTURSFv8nMmJgmk9CaRQUlkUKxG4csdGdHkBKowoApikqJC7EISnYKimSjIAgGycKFhIAIXQgGUXA5QosICgF15aYbRRRJSkCKi+B9k7+pkJIemHfPvffcM+89HuwSD/7Xx4KF0NVgNpIXA50XVw4dqUdqgQqvg8koHkuirWV63ctwuEQ+qN0KJqP4BPxiwvbbuofRASkNoBUGdAciv/1CrOYrDGi6EJKvj1Ctz3aKn6CDVu5J9CdCtCJaJnsC8heZcPhW4/w2h1O5k3funt2AD8s2qaf7ViljtbH6J79XU/Iy5tH0LGFPSybsiFvlthSjNxTSoB+scME1G8SdcN1yfzuXKKCJSVvNCr76a4tz06UpFgjZ02hWi6pf7i2mUZBWrMhpwukYzZKj15WD+PiIrvjhMaU5Idfyb5mVKyrqrW67t0bTsrW4R4W9SXgHVh29g9k7znsbV5RiJc8jopxfwZ6k0dhmIqNVHtp6m6bUlbIAm5hlX6VtgiesTERcIy2h7eMkSmFPrAd3wjyytUV1zI+apm/JiIx/VgdUmHewPIlysXUJ1zF/tBwS3J9KSjrAIrK15wblyEtjwVgxbN7AAXls+k359SP4bsv1N4h5MpJdyjGTxHiWmhkYKLKmXtKky/6ln7nsmcllWAdzPYNVgfjfuVt/RGQ4SrobHOuJzeFQvDTk47H+RMCk7zuegVLpta7W7Qa1rg7puCzVFQ5NjI1xR4c6fUi7TAr/AAZlfPSXrxLfAAAAAElFTkSuQmCC)"
      ],
      "metadata": {
        "id": "eAYYmvjpY-Z5"
      }
    },
    {
      "cell_type": "code",
      "source": [
        "# simple relu function for visual\n",
        "def relu(x):\n",
        "    return np.maximum(0, x)\n",
        "\n",
        "# generate data for visual\n",
        "x = np.linspace(-10, 10, 100)\n",
        "y = relu(x)\n",
        "\n",
        "# plot\n",
        "plt.plot(x, y)\n",
        "plt.title('ReLU Function')\n",
        "plt.xlabel('x')\n",
        "plt.ylabel('ReLU(x)')\n",
        "plt.grid(True)\n",
        "plt.show()"
      ],
      "metadata": {
        "colab": {
          "base_uri": "https://localhost:8080/",
          "height": 472
        },
        "id": "RGK6qrw6o1nS",
        "outputId": "8c1ba6ab-3a99-4c3f-dbc5-dbc42c3a74b7"
      },
      "execution_count": 22,
      "outputs": [
        {
          "output_type": "display_data",
          "data": {
            "text/plain": [
              "<Figure size 640x480 with 1 Axes>"
            ],
            "image/png": "[encoded data removed]"
          },
          "metadata": {}
        }
      ]
    },
    {
      "cell_type": "markdown",
      "metadata": {
        "id": "WVci2J6K1ar2"
      },
      "source": [
        "# Other Scaling"
      ]
    },
    {
      "cell_type": "markdown",
      "source": [
        "## Standardization"
      ],
      "metadata": {
        "id": "pZKvv6D2JanI"
      }
    },
    {
      "cell_type": "markdown",
      "source": [
        "![standardization.png](data:image/png;base64,iVBORw0KGgoAAAANSUhEUgAAAFMAAAAhBAMAAABXdor5AAAAMFBMVEX///8AAAAAAAAAAAAAAAAAAAAAAAAAAAAAAAAAAAAAAAAAAAAAAAAAAAAAAAAAAAAv3aB7AAAAD3RSTlMAmd2ric1U7xAidmYyu0RrMWKPAAAACXBIWXMAAA7EAAAOxAGVKw4bAAABSUlEQVQ4EWNgwAL4EudtbEAWt2PgPYDMR7CP8dxmeoDgMjD8ZOhvQOYj2At4fnAjeAwMfAUMSch8ZDaXAYj39i4Q3AYyWAwYBJGlkdmsCcg8BiBXDUUAwXkwv4ELwWNg4J/A8eMEsgCcza2wqWEnnAdkvD/AUrABSDN+MnH5iizBwOk2z+0AsoirWYb0A6AAUwIDSwWyBCY7DCo0i4Fh/wFMaWSRn1DOBgaeb8jimGxgsMLA9AUwFnaazQEmzqEIYxGkeQPAShiNQcABr3KhBrzSSJJclQxsSFwgk/8/NvABGBUPGFBiEVUbMo/zNwPDKZAAYbe2OzDwaCLrxc2+LyIcr4BbeqTLbPr/H5EA8QYGs8TcBXgVICT3MvBBUh1CCBerhoHtAi45VHHOAgZGB1QhXDyg7ewNuCTRxAsYzNBEcHJPZR1AkgMAssBT6ZAgRFkAAAAASUVORK5CYII=)"
      ],
      "metadata": {
        "id": "CcAGLyUbpb0p"
      }
    },
    {
      "cell_type": "code",
      "execution_count": null,
      "metadata": {
        "id": "B6Hl_p0Z1ax2"
      },
      "outputs": [],
      "source": [
        "# Calculate mean and standard deviation\n",
        "mean_x1 = np.mean(x1)\n",
        "std_x1 = np.std(x1)\n",
        "\n",
        "mean_x2 = np.mean(x2)\n",
        "std_x2 = np.std(x2)\n",
        "\n",
        "# Standardize the vectors\n",
        "#x1 = (x1 - mean_x1) / std_x1\n",
        "#x2 = (x2 - mean_x2) / std_x2"
      ]
    }
  ],
  "metadata": {
    "colab": {
      "provenance": []
    },
    "kernelspec": {
      "display_name": "Python 3 (ipykernel)",
      "language": "python",
      "name": "python3"
    },
    "language_info": {
      "codemirror_mode": {
        "name": "ipython",
        "version": 3
      },
      "file_extension": ".py",
      "mimetype": "text/x-python",
      "name": "python",
      "nbconvert_exporter": "python",
      "pygments_lexer": "ipython3",
      "version": "3.11.0"
    }
  },
  "nbformat": 4,
  "nbformat_minor": 0
}